{
 "cells": [
  {
   "cell_type": "code",
   "execution_count": 1,
   "id": "24de351c",
   "metadata": {},
   "outputs": [],
   "source": [
    "@file:Repository(\"*mavenLocal\")\n",
    "@file:DependsOn(\"org.ntakt:ntakt:0.1.0-SNAPSHOT\")\n",
    "clearIvyCache(\"me.hanslovsky\")\n",
    "\n",
    "%use @file[jep.json]"
   ]
  },
  {
   "cell_type": "code",
   "execution_count": 2,
   "id": "4dc5b267",
   "metadata": {},
   "outputs": [],
   "source": [
    "import java.nio.ByteBuffer\n",
    "\n",
    "import org.ntakt.*"
   ]
  },
  {
   "cell_type": "code",
   "execution_count": 3,
   "id": "ec8cc01d",
   "metadata": {},
   "outputs": [
    {
     "data": {
      "text/plain": [
       "ArrayImg [3x4]: [0.0, 1.0, 2.0, 3.0, 4.0, 5.0, 6.0, 7.0, 8.0, 9.0, 10.0, 11.0]"
      ]
     },
     "execution_count": 3,
     "metadata": {},
     "output_type": "execute_result"
    }
   ],
   "source": [
    "val dims = intArrayOf(3, 4)\n",
    "val size = dims.fold(1) { a, b -> a * b }\n",
    "val buf = ByteBuffer.allocateDirect(size * 4)\n",
    "val ndArray = DirectNDArray(buf.asFloatBuffer(), *dims.reversedArray()) // .alsoInPython(\"arr\")\n",
    "python[\"arr\"] = ndArray\n",
    "val img = ntakt.float32s(buf.asFloatBuffer().access, *dims) { it.toFloat() }\n",
    "img.flatStringRepresentation"
   ]
  },
  {
   "cell_type": "code",
   "execution_count": 4,
   "id": "c6a35571",
   "metadata": {},
   "outputs": [],
   "source": [
    "%%python\n",
    "import numpy as np\n",
    "arr[...] = np.sqrt(arr)\n",
    "shape = arr.shape"
   ]
  },
  {
   "cell_type": "code",
   "execution_count": 5,
   "id": "64285a85",
   "metadata": {},
   "outputs": [
    {
     "data": {
      "text/plain": [
       "ArrayImg [3x4]: [0.0, 1.0, 1.4142135381698608, 1.7320507764816284, 2.0, 2.2360680103302, 2.4494898319244385, 2.6457512378692627, 2.8284270763397217, 3.0, 3.1622776985168457, 3.316624879837036]"
      ]
     },
     "execution_count": 5,
     "metadata": {},
     "output_type": "execute_result"
    }
   ],
   "source": [
    "img.flatStringRepresentation"
   ]
  },
  {
   "cell_type": "code",
   "execution_count": 6,
   "id": "ddcafa86",
   "metadata": {},
   "outputs": [
    {
     "data": {
      "text/plain": [
       "[4, 3]"
      ]
     },
     "execution_count": 6,
     "metadata": {},
     "output_type": "execute_result"
    }
   ],
   "source": [
    "python[\"shape\"]"
   ]
  }
 ],
 "metadata": {
  "kernelspec": {
   "display_name": "Kotlin",
   "language": "kotlin",
   "name": "kotlin"
  },
  "language_info": {
   "codemirror_mode": "text/x-kotlin",
   "file_extension": ".kt",
   "mimetype": "text/x-kotlin",
   "name": "kotlin",
   "nbconvert_exporter": "",
   "pygments_lexer": "kotlin",
   "version": "1.5.30-dev-598"
  }
 },
 "nbformat": 4,
 "nbformat_minor": 5
}

{
 "cells": [
  {
   "cell_type": "code",
   "execution_count": 1,
   "id": "396f68f1",
   "metadata": {},
   "outputs": [],
   "source": [
    "%use @file[jep.json]"
   ]
  },
  {
   "cell_type": "code",
   "execution_count": 2,
   "id": "3b5dc4bc",
   "metadata": {},
   "outputs": [],
   "source": [
    "import java.nio.ByteBuffer"
   ]
  },
  {
   "cell_type": "code",
   "execution_count": 3,
   "id": "b7ee7882",
   "metadata": {},
   "outputs": [],
   "source": [
    "fun ByteBuffer.joinToString() = ByteArray(capacity()) { get(it) }.joinToString()"
   ]
  },
  {
   "cell_type": "code",
   "execution_count": 4,
   "id": "e42e06bc",
   "metadata": {},
   "outputs": [
    {
     "data": {
      "text/plain": [
       "0, 0, 0, 0, 0, 0, 0, 0, 0, 0, 0, 0"
      ]
     },
     "execution_count": 4,
     "metadata": {},
     "output_type": "execute_result"
    }
   ],
   "source": [
    "val dims = intArrayOf(3, 4)\n",
    "val size = dims.fold(1) { a, b -> a * b }\n",
    "val buf = ByteBuffer.allocateDirect(size)\n",
    "val ndArray = DirectNDArray(buf, *dims)\n",
    "python[\"arr\"] = ndArray\n",
    "buf.joinToString()"
   ]
  },
  {
   "cell_type": "code",
   "execution_count": 5,
   "id": "c432bc41",
   "metadata": {},
   "outputs": [],
   "source": [
    "python(\n",
    "    \"\"\"\n",
    "import numpy as np\n",
    "arr[...] = 3\n",
    "    \"\"\".trimIndent()\n",
    ")"
   ]
  },
  {
   "cell_type": "code",
   "execution_count": 6,
   "id": "cb7721fc",
   "metadata": {},
   "outputs": [
    {
     "data": {
      "text/plain": [
       "3, 3, 3, 3, 3, 3, 3, 3, 3, 3, 3, 3"
      ]
     },
     "execution_count": 6,
     "metadata": {},
     "output_type": "execute_result"
    }
   ],
   "source": [
    "buf.joinToString()"
   ]
  }
 ],
 "metadata": {
  "kernelspec": {
   "display_name": "Kotlin",
   "language": "kotlin",
   "name": "kotlin"
  },
  "language_info": {
   "codemirror_mode": "text/x-kotlin",
   "file_extension": ".kt",
   "mimetype": "text/x-kotlin",
   "name": "kotlin",
   "nbconvert_exporter": "",
   "pygments_lexer": "kotlin",
   "version": "1.5.20-dev-5817"
  }
 },
 "nbformat": 4,
 "nbformat_minor": 5
}

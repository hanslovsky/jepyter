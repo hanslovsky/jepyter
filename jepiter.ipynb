{
 "cells": [
  {
   "cell_type": "code",
   "execution_count": 1,
   "id": "4a2e06d1",
   "metadata": {},
   "outputs": [],
   "source": [
    "%use @file[jep.json]"
   ]
  },
  {
   "cell_type": "code",
   "execution_count": 2,
   "id": "35afc1fe",
   "metadata": {},
   "outputs": [
    {
     "data": {
      "text/plain": [
       "123"
      ]
     },
     "execution_count": 2,
     "metadata": {},
     "output_type": "execute_result"
    }
   ],
   "source": [
    "python(\"a = 123\")\n",
    "python[\"a\"]"
   ]
  },
  {
   "cell_type": "code",
   "execution_count": 3,
   "id": "201d846a",
   "metadata": {},
   "outputs": [
    {
     "data": {
      "text/plain": [
       "579"
      ]
     },
     "execution_count": 3,
     "metadata": {},
     "output_type": "execute_result"
    }
   ],
   "source": [
    "python[\"b\"] = 456\n",
    "python(\"c = a + b\")\n",
    "python[\"c\"]"
   ]
  }
 ],
 "metadata": {
  "kernelspec": {
   "display_name": "Kotlin",
   "language": "kotlin",
   "name": "kotlin"
  },
  "language_info": {
   "codemirror_mode": "text/x-kotlin",
   "file_extension": ".kt",
   "mimetype": "text/x-kotlin",
   "name": "kotlin",
   "nbconvert_exporter": "",
   "pygments_lexer": "kotlin",
   "version": "1.5.20-dev-5817"
  }
 },
 "nbformat": 4,
 "nbformat_minor": 5
}

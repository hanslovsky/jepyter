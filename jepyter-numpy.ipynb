{
 "cells": [
  {
   "cell_type": "code",
   "execution_count": 1,
   "id": "76e23837",
   "metadata": {},
   "outputs": [],
   "source": [
    "@file:Repository(\"*mavenLocal\")\n",
    "clearIvyCache(\"me.hanslovsky\")\n",
    "%use @file[jep.json]"
   ]
  },
  {
   "cell_type": "code",
   "execution_count": 2,
   "id": "94988078",
   "metadata": {},
   "outputs": [],
   "source": [
    "import java.nio.ByteBuffer"
   ]
  },
  {
   "cell_type": "code",
   "execution_count": 3,
   "id": "053ba1e5",
   "metadata": {},
   "outputs": [],
   "source": [
    "fun ByteBuffer.joinToString() = ByteArray(capacity()) { get(it) }.joinToString()"
   ]
  },
  {
   "cell_type": "code",
   "execution_count": 4,
   "id": "2914a5e8",
   "metadata": {},
   "outputs": [
    {
     "data": {
      "text/plain": [
       "0, 0, 0, 0, 0, 0, 0, 0, 0, 0, 0, 0"
      ]
     },
     "execution_count": 4,
     "metadata": {},
     "output_type": "execute_result"
    }
   ],
   "source": [
    "val dims = intArrayOf(3, 4)\n",
    "val size = dims.fold(1) { a, b -> a * b }\n",
    "val buf = ByteBuffer.allocateDirect(size)\n",
    "val ndArray = DirectNDArray(buf, *dims)\n",
    "python[\"arr\"] = ndArray\n",
    "buf.joinToString()"
   ]
  },
  {
   "cell_type": "code",
   "execution_count": 5,
   "id": "4540dcca",
   "metadata": {},
   "outputs": [],
   "source": [
    "%%python\n",
    "import numpy as np\n",
    "arr[...] = 3"
   ]
  },
  {
   "cell_type": "code",
   "execution_count": 6,
   "id": "3389786c",
   "metadata": {},
   "outputs": [
    {
     "data": {
      "text/plain": [
       "3, 3, 3, 3, 3, 3, 3, 3, 3, 3, 3, 3"
      ]
     },
     "execution_count": 6,
     "metadata": {},
     "output_type": "execute_result"
    }
   ],
   "source": [
    "buf.joinToString()"
   ]
  }
 ],
 "metadata": {
  "kernelspec": {
   "display_name": "Kotlin",
   "language": "kotlin",
   "name": "kotlin"
  },
  "language_info": {
   "codemirror_mode": "text/x-kotlin",
   "file_extension": ".kt",
   "mimetype": "text/x-kotlin",
   "name": "kotlin",
   "nbconvert_exporter": "",
   "pygments_lexer": "kotlin",
   "version": "1.5.30-dev-598"
  }
 },
 "nbformat": 4,
 "nbformat_minor": 5
}

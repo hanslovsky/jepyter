{
 "cells": [
  {
   "cell_type": "code",
   "execution_count": 1,
   "id": "87dab4a7",
   "metadata": {},
   "outputs": [],
   "source": [
    "clearIvyCache(\"me.hanslovsky\")"
   ]
  },
  {
   "cell_type": "code",
   "execution_count": 2,
   "id": "4a2e06d1",
   "metadata": {},
   "outputs": [],
   "source": [
    "// use @file notation to specify path to jep.json library definition\n",
    "// %use jep@file[jep.json]\n",
    "\n",
    "// use @url notation to specify url to pull jep.json library definition from\n",
    "%use jep@url[https://raw.githubusercontent.com/hanslovsky/jepyter/main/jep.json]"
   ]
  },
  {
   "cell_type": "code",
   "execution_count": 3,
   "id": "35afc1fe",
   "metadata": {},
   "outputs": [
    {
     "data": {
      "text/plain": [
       "123"
      ]
     },
     "execution_count": 3,
     "metadata": {},
     "output_type": "execute_result"
    }
   ],
   "source": [
    "python(\"a = 123\")\n",
    "python[\"a\"]"
   ]
  },
  {
   "cell_type": "code",
   "execution_count": 4,
   "id": "201d846a",
   "metadata": {},
   "outputs": [
    {
     "data": {
      "text/plain": [
       "579"
      ]
     },
     "execution_count": 4,
     "metadata": {},
     "output_type": "execute_result"
    }
   ],
   "source": [
    "python[\"b\"] = 456\n",
    "python(\"c = a + b\")\n",
    "python[\"c\"]"
   ]
  },
  {
   "cell_type": "code",
   "execution_count": 5,
   "id": "9c748b42",
   "metadata": {},
   "outputs": [],
   "source": [
    "%%python\n",
    "import numpy as np\n",
    "ones = np.ones((1, 2))"
   ]
  },
  {
   "cell_type": "code",
   "execution_count": 6,
   "id": "15307429",
   "metadata": {},
   "outputs": [],
   "source": [
    "import jep.NDArray\n",
    "val ones = python[\"ones\"] as NDArray<DoubleArray>"
   ]
  },
  {
   "cell_type": "code",
   "execution_count": 7,
   "id": "98d4040c",
   "metadata": {},
   "outputs": [
    {
     "data": {
      "text/plain": [
       "1.0, 1.0"
      ]
     },
     "execution_count": 7,
     "metadata": {},
     "output_type": "execute_result"
    }
   ],
   "source": [
    "ones.data.joinToString()"
   ]
  },
  {
   "cell_type": "code",
   "execution_count": 8,
   "id": "01c5294f",
   "metadata": {},
   "outputs": [
    {
     "data": {
      "text/plain": [
       "1, 2"
      ]
     },
     "execution_count": 8,
     "metadata": {},
     "output_type": "execute_result"
    }
   ],
   "source": [
    "ones.dimensions.joinToString()"
   ]
  }
 ],
 "metadata": {
  "kernelspec": {
   "display_name": "Kotlin",
   "language": "kotlin",
   "name": "kotlin"
  },
  "language_info": {
   "codemirror_mode": "text/x-kotlin",
   "file_extension": ".kt",
   "mimetype": "text/x-kotlin",
   "name": "kotlin",
   "nbconvert_exporter": "",
   "pygments_lexer": "kotlin",
   "version": "1.5.30-dev-598"
  }
 },
 "nbformat": 4,
 "nbformat_minor": 5
}

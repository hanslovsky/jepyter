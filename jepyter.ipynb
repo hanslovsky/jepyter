{
 "cells": [
  {
   "cell_type": "code",
   "execution_count": 1,
   "id": "87dab4a7",
   "metadata": {},
   "outputs": [],
   "source": [
    "@file:Repository(\"*mavenLocal\")\n",
    "clearIvyCache(\"me.hanslovsky\")"
   ]
  },
  {
   "cell_type": "code",
   "execution_count": 2,
   "id": "4a2e06d1",
   "metadata": {},
   "outputs": [],
   "source": [
    "%use @file[jep.json]\n",
    "%use serialization"
   ]
  },
  {
   "cell_type": "code",
   "execution_count": 3,
   "id": "35afc1fe",
   "metadata": {},
   "outputs": [
    {
     "data": {
      "text/plain": [
       "123"
      ]
     },
     "execution_count": 3,
     "metadata": {},
     "output_type": "execute_result"
    }
   ],
   "source": [
    "python(\"a = 123\")\n",
    "python[\"a\"]"
   ]
  },
  {
   "cell_type": "code",
   "execution_count": 4,
   "id": "201d846a",
   "metadata": {},
   "outputs": [
    {
     "data": {
      "text/plain": [
       "579"
      ]
     },
     "execution_count": 4,
     "metadata": {},
     "output_type": "execute_result"
    }
   ],
   "source": [
    "python[\"b\"] = 456\n",
    "python(\"c = a + b\")\n",
    "python[\"c\"]"
   ]
  },
  {
   "cell_type": "code",
   "execution_count": 5,
   "id": "04bb141c",
   "metadata": {},
   "outputs": [],
   "source": [
    "import java.lang.Class\n",
    "import java.lang.Thread\n",
    "import java.util.concurrent.Callable\n",
    "import java.util.concurrent.ExecutorService\n",
    "import java.util.concurrent.Executors\n",
    "import jep.Interpreter\n",
    "import jep.SharedInterpreter\n",
    "\n",
    "\n",
    "class ThreadsafeInterpreter(\n",
    "    private val initPython: () -> Interpreter = { SharedInterpreter() },\n",
    "    threadName: String = \"Python\"\n",
    "): Interpreter {\n",
    "    private lateinit var _python: Interpreter\n",
    "    private val python: Interpreter\n",
    "        get() {\n",
    "            if (!this::_python.isInitialized) _python = initPython()\n",
    "            return _python\n",
    "        }\n",
    "    private val executor = Executors.newSingleThreadExecutor { Thread(it, threadName).also { it.setDaemon(true) } }\n",
    "    \n",
    "    override fun close() {\n",
    "        val f = exec { python.close() }\n",
    "        executor.shutdown()\n",
    "        f.get()\n",
    "    }\n",
    "    \n",
    "    override fun eval(str: String) = exec { python.eval(str) }.get()\n",
    "    override fun exec(str: String) = exec { python.exec(str) }.get()\n",
    "    override fun runScript(script: String) = exec { python.runScript(script) }.get()\n",
    "    override fun getValue(str: String) = exec { python.getValue(str) }.get()\n",
    "    override fun <T> getValue(str: String, clazz: Class<T>) = exec { python.getValue(str, clazz) }.get()\n",
    "    override operator fun set(name: String, v: Any?) = exec { python.set(name, v) }.get()\n",
    "    override operator fun invoke(name: String, vararg args: Any) = exec { python.invoke(name, *args) }.get()\n",
    "    override operator fun invoke(name: String, kwargs: Map<String, Any>) = exec { python.invoke(name, kwargs) }.get()\n",
    "    override operator fun invoke(name: String, args: Array<Any>, kwargs: Map<String, Any>) = exec { python.invoke(name, kwargs) }.get()\n",
    "    operator fun get(str: String) = getValue(str)\n",
    "    \n",
    "    private fun <T> exec(task: () -> T) = executor.submit(Callable { task() })\n",
    "}"
   ]
  },
  {
   "cell_type": "code",
   "execution_count": 6,
   "id": "2c0a4206",
   "metadata": {},
   "outputs": [
    {
     "data": {
      "text/plain": [
       "1"
      ]
     },
     "execution_count": 6,
     "metadata": {},
     "output_type": "execute_result"
    }
   ],
   "source": [
    "ThreadsafeInterpreter().let { it.exec(\"a=1\"); it[\"a\"] }"
   ]
  },
  {
   "cell_type": "code",
   "execution_count": 7,
   "id": "67f32212",
   "metadata": {},
   "outputs": [],
   "source": [
    "import java.lang.Class\n",
    "import java.lang.Thread\n",
    "import java.util.concurrent.Callable\n",
    "import java.util.concurrent.ExecutorService\n",
    "import java.util.concurrent.Executors\n",
    "import jep.Interpreter\n",
    "import jep.Jep\n",
    "import jep.SharedInterpreter\n",
    "import jep.python.PyCallable\n",
    "import jep.python.PyObject\n",
    "\n",
    "\n",
    "class ThreadsafeInterpreter3(\n",
    "    private val initPython: () -> Interpreter = { SharedInterpreter() },\n",
    "    threadName: String = \"Python\"\n",
    "): Interpreter {\n",
    "    \n",
    "    private lateinit var python: Interpreter\n",
    "    private val executor = Executors.newSingleThreadExecutor { r -> Thread(r.wrapped, threadName).also { it.setDaemon(true) } }\n",
    "    \n",
    "    override fun close() {\n",
    "        val f = exec { python.close() }\n",
    "        executor.shutdown()\n",
    "        f.get()\n",
    "    }\n",
    "    \n",
    "    override fun eval(str: String) = exec { python.eval(str) }.get()\n",
    "    override fun exec(str: String) = exec { python.exec(str) }.get()\n",
    "    override fun runScript(script: String) = exec { python.runScript(script) }.get()\n",
    "    override fun getValue(str: String) = exec { python.getValue(str) }.get()\n",
    "    override fun <T> getValue(str: String, clazz: Class<T>) = exec { python.getValue(str, clazz) }.get()\n",
    "    override operator fun set(name: String, v: Any?) = exec { python.set(name, v) }.get()\n",
    "    override operator fun invoke(name: String, vararg args: Any) = exec { python.invoke(name, *args) }.get()\n",
    "    override operator fun invoke(name: String, kwargs: Map<String, Any>) = exec { python.invoke(name, kwargs) }.get()\n",
    "    override operator fun invoke(name: String, args: Array<Any>, kwargs: Map<String, Any>) = exec { python.invoke(name, kwargs) }.get()\n",
    "    operator fun get(str: String) = getValue(str)\n",
    "    \n",
    "    private fun <T> exec(task: () -> T) = executor.submit(Callable { task() })\n",
    "    private val Runnable.wrapped: Runnable get() = Runnable {\n",
    "        python = SharedInterpreter()\n",
    "        try {\n",
    "            this.run()\n",
    "        } finally {\n",
    "            python.close()\n",
    "        }\n",
    "    }\n",
    "    \n",
    "    fun <T: PyObject> createPyObject(factory: () -> T) = exec { factory() }.get()\n",
    "}"
   ]
  },
  {
   "cell_type": "code",
   "execution_count": 8,
   "id": "9c748b42",
   "metadata": {},
   "outputs": [],
   "source": [
    "%%python\n",
    "import numpy as np\n",
    "ones = np.ones((1, 2))"
   ]
  },
  {
   "cell_type": "code",
   "execution_count": 9,
   "id": "15307429",
   "metadata": {},
   "outputs": [],
   "source": [
    "import jep.NDArray\n",
    "val ones = python[\"ones\"] as NDArray<DoubleArray>"
   ]
  },
  {
   "cell_type": "code",
   "execution_count": 10,
   "id": "98d4040c",
   "metadata": {},
   "outputs": [
    {
     "data": {
      "text/plain": [
       "1.0, 1.0"
      ]
     },
     "execution_count": 10,
     "metadata": {},
     "output_type": "execute_result"
    }
   ],
   "source": [
    "ones.data.joinToString()"
   ]
  },
  {
   "cell_type": "code",
   "execution_count": 11,
   "id": "01c5294f",
   "metadata": {},
   "outputs": [
    {
     "data": {
      "text/plain": [
       "1, 2"
      ]
     },
     "execution_count": 11,
     "metadata": {},
     "output_type": "execute_result"
    }
   ],
   "source": [
    "ones.dimensions.joinToString()"
   ]
  },
  {
   "cell_type": "code",
   "execution_count": 12,
   "id": "26df2760",
   "metadata": {},
   "outputs": [
    {
     "name": "stdout",
     "output_type": "stream",
     "text": [
      "{}\n",
      "{\"member1\":\"lol\",\"member3\":[[\"abc\"],[\"def\",\"ghi\"]]}\n",
      "class Line_14$Obj\n"
     ]
    }
   ],
   "source": [
    "import kotlinx.serialization.Serializable\n",
    "import kotlinx.serialization.json.Json\n",
    "\n",
    "@Serializable\n",
    "class Obj {\n",
    "    var member1: String = \"\"\n",
    "    var member2: List<String> = listOf()\n",
    "    var member3: List<List<String>> = listOf()\n",
    "\n",
    "    override fun toString() = Json.encodeToString(this)\n",
    "}\n",
    "\n",
    "fun fromJson(json: String): Obj = Json.decodeFromString(json)\n",
    "\n",
    "println(Obj())\n",
    "val json = \"\"\"{\"member1\": \"lol\", \"member3\": [[\"abc\"], [\"def\", \"ghi\"]]}\"\"\"\n",
    "println(fromJson(json))\n",
    "println(fromJson(json)::class)\n"
   ]
  }
 ],
 "metadata": {
  "kernelspec": {
   "display_name": "Kotlin",
   "language": "kotlin",
   "name": "kotlin"
  },
  "language_info": {
   "codemirror_mode": "text/x-kotlin",
   "file_extension": ".kt",
   "mimetype": "text/x-kotlin",
   "name": "kotlin",
   "nbconvert_exporter": "",
   "pygments_lexer": "kotlin",
   "version": "1.5.30-dev-598"
  }
 },
 "nbformat": 4,
 "nbformat_minor": 5
}
